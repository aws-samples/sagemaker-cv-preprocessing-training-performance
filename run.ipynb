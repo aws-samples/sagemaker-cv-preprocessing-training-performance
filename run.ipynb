{
 "cells": [
  {
   "cell_type": "code",
   "execution_count": null,
   "id": "spread-colleague",
   "metadata": {},
   "outputs": [],
   "source": [
    "from util_debugger import get_sys_metric\n",
    "from util_train import aug_exp_train\n",
    "import pprint"
   ]
  },
  {
   "cell_type": "code",
   "execution_count": null,
   "id": "enabling-substance",
   "metadata": {},
   "outputs": [],
   "source": [
    "models = ['RESNET18', 'RESNET50']\n",
    "instance_types = ['ml.p3.2xlarge', 'ml.p3.8xlarge', 'ml.g4dn.12xlarge']\n",
    "aug_operators = ['pytorch-cpu', 'dali-cpu', 'dali-gpu']\n",
    "batch_size = 64\n",
    "\n",
    "instance_type = instance_types[0]\n",
    "aug_load_factor = 1"
   ]
  },
  {
   "cell_type": "code",
   "execution_count": null,
   "id": "exotic-illness",
   "metadata": {},
   "outputs": [],
   "source": [
    "exp_data = {}\n",
    "trial = 0\n",
    "pp = pprint.PrettyPrinter()\n",
    "\n",
    "for model_arch in models:\n",
    "    for aug_operator in aug_operators:\n",
    "        \n",
    "        trial = trial + 1\n",
    "        trial_data = dict.fromkeys(['train_job_id', 'model_arch', 'instance_type', 'batch_size', 'aug_load_factor', 'aug_operator', 'sys_util_df'])\n",
    "            \n",
    "        train_job_id, train_estimator = aug_exp_train(model_arch, batch_size, aug_operator, aug_load_factor, instance_type)\n",
    "        heatmap, metric_hist, sys_util_df = get_sys_metric(train_estimator, instance_type)\n",
    "            \n",
    "        trial_data['train_job_id'] = train_job_id\n",
    "        trial_data['model_arch'] = model_arch\n",
    "        trial_data['instance_type'] = instance_type\n",
    "        trial_data['batch_size'] = batch_size\n",
    "        trial_data['aug_load_factor'] = aug_load_factor\n",
    "        trial_data['aug_operator'] = aug_operator\n",
    "        trial_data['sys_util_df'] = sys_util_df\n",
    "            \n",
    "        pp.pprint(trial_data) \n",
    "        exp_data.update({'trial-'+str(trial): trial_data})\n",
    "            \n",
    "pp.pprint(exp_data) "
   ]
  },
  {
   "cell_type": "code",
   "execution_count": null,
   "id": "perfect-paintball",
   "metadata": {},
   "outputs": [],
   "source": []
  },
  {
   "cell_type": "code",
   "execution_count": null,
   "id": "filled-cover",
   "metadata": {},
   "outputs": [],
   "source": []
  }
 ],
 "metadata": {
  "kernelspec": {
   "display_name": ".venv_dev",
   "language": "python",
   "name": ".venv_dev"
  },
  "language_info": {
   "codemirror_mode": {
    "name": "ipython",
    "version": 3
   },
   "file_extension": ".py",
   "mimetype": "text/x-python",
   "name": "python",
   "nbconvert_exporter": "python",
   "pygments_lexer": "ipython3",
   "version": "3.8.2"
  }
 },
 "nbformat": 4,
 "nbformat_minor": 5
}
