{
 "cells": [
  {
   "cell_type": "code",
   "execution_count": null,
   "id": "meaning-stack",
   "metadata": {},
   "outputs": [],
   "source": [
    "import os\n",
    "import time\n",
    "from datetime import datetime\n",
    "from IPython.display import Image\n",
    "import sagemaker\n",
    "from sagemaker.pytorch import PyTorch\n",
    "from sagemaker.inputs import FileSystemInput\n",
    "from sagemaker.debugger import ProfilerConfig, FrameworkProfile, DetailedProfilingConfig"
   ]
  },
  {
   "cell_type": "code",
   "execution_count": null,
   "id": "registered-maker",
   "metadata": {},
   "outputs": [],
   "source": [
    "CURR_SM_ROLE = 'arn:aws:iam::154108359553:role/service-role/AmazonSageMaker-ExecutionRole-20210203T120788'"
   ]
  },
  {
   "cell_type": "code",
   "execution_count": null,
   "id": "hollywood-finance",
   "metadata": {},
   "outputs": [],
   "source": [
    "MODEL = 'RESNET18'\n",
    "#MODEL = 'RESNET50'\n",
    "\n",
    "#BATCH_SIZE = 128\n",
    "#BATCH_SIZE = 256\n",
    "BATCH_SIZE = 64\n",
    "#BATCH_SIZE = 32\n",
    "\n",
    "LR = 0.001\n",
    "\n",
    "NUM_EPOCHS = 1\n",
    "#NUM_EPOCHS = 5\n",
    "\n",
    "#INSTANCE_TYPE = 'ml.g4dn.12xlarge'\n",
    "#INSTANCE_TYPE = 'ml.p3.8xlarge'\n",
    "INSTANCE_TYPE = 'ml.p3.2xlarge'\n",
    "\n",
    "AUGMENTATION = 'pytorch-cpu'\n",
    "#AUGMENTATION = 'dali-cpu'\n",
    "#AUGMENTATION = 'dali-gpu'\n",
    "\n",
    "AUGMENTATION_LOAD = 5\n",
    "\n",
    "SPOT_TRAINING = False\n",
    "#SPOT_TRAINING = True"
   ]
  },
  {
   "cell_type": "code",
   "execution_count": null,
   "id": "greenhouse-aviation",
   "metadata": {},
   "outputs": [],
   "source": [
    "BUCKET = 'dali-test'\n",
    "\n",
    "#Full size download of https://github.com/fastai/imagenette\n",
    "#1.3GB — 13,395 images for 10 classes\n",
    "train_data_s3 = 's3://{}/{}'.format(BUCKET, 'imagenette2')\n",
    "#train_data_s3 = 's3://{}/{}'.format(BUCKET, 'imagenette2_subset')"
   ]
  },
  {
   "cell_type": "code",
   "execution_count": null,
   "id": "located-berkeley",
   "metadata": {},
   "outputs": [],
   "source": [
    "model_ckpt_s3 = 's3://{}/{}'.format(BUCKET, 'training_jobs_checkpoints')\n",
    "src_code_s3 = 's3://{}/{}'.format(BUCKET, 'training_jobs')\n",
    "training_job_output_s3 = 's3://{}/{}'.format(BUCKET, 'training_jobs_output')"
   ]
  },
  {
   "cell_type": "code",
   "execution_count": null,
   "id": "vertical-department",
   "metadata": {},
   "outputs": [],
   "source": [
    "framework_profile_params = FrameworkProfile(local_path=\"/opt/ml/output/profiler/\", \n",
    "                                    start_step = 1, \n",
    "                                    num_steps = NUM_EPOCHS,\n",
    "                                    detailed_profiling_config=DetailedProfilingConfig(start_step = 1, \n",
    "                                                                                      num_steps = NUM_EPOCHS))\n",
    "aug_metric_config = ProfilerConfig(\n",
    "        system_monitor_interval_millis = 100,\n",
    "        framework_profile_params = framework_profile_params\n",
    ")"
   ]
  },
  {
   "cell_type": "code",
   "execution_count": null,
   "id": "electrical-digest",
   "metadata": {},
   "outputs": [],
   "source": [
    "train_estimator = PyTorch(entry_point = 'sm_augmentation_train-script.py',\n",
    "                          source_dir =  './src',\n",
    "                          role = CURR_SM_ROLE,\n",
    "                          framework_version = '1.8.1',\n",
    "                          py_version = 'py3',\n",
    "                          \n",
    "                          profiler_config = aug_metric_config,\n",
    "                          debugger_hook_config = False,\n",
    "                          \n",
    "                          instance_count = 1,\n",
    "                          instance_type = INSTANCE_TYPE,\n",
    "                          \n",
    "                          output_path = training_job_output_s3,\n",
    "                          code_location = src_code_s3,\n",
    "                            \n",
    "                          hyperparameters = {'epochs': NUM_EPOCHS, \n",
    "                                            'backend': 'nccl',\n",
    "                                            'pretrained-model-type': MODEL,\n",
    "                                            'lr': LR,\n",
    "                                            'batch-size': BATCH_SIZE,\n",
    "                                            'aug': AUGMENTATION,\n",
    "                                            'aug-load': AUGMENTATION_LOAD},\n",
    "\n",
    "                          use_spot_instances = SPOT_TRAINING,\n",
    "                          checkpoint_s3_uri = model_ckpt_s3 if SPOT_TRAINING else None)"
   ]
  },
  {
   "cell_type": "code",
   "execution_count": null,
   "id": "alternate-groove",
   "metadata": {},
   "outputs": [],
   "source": [
    "train_input = sagemaker.inputs.TrainingInput(\n",
    "                                        s3_data_type = 'S3Prefix',\n",
    "                                        s3_data = train_data_s3,\n",
    "                                        content_type='image/jpeg',\n",
    "                                        input_mode='File') \n",
    "\n",
    "val_input = sagemaker.inputs.TrainingInput(\n",
    "                                        s3_data_type = 'S3Prefix',\n",
    "                                        s3_data = train_data_s3,\n",
    "                                        content_type='image/jpeg',\n",
    "                                        input_mode='File') \n",
    "\n",
    "data_channels = {'train': train_input, 'val': val_input}"
   ]
  },
  {
   "cell_type": "code",
   "execution_count": null,
   "id": "sharing-luther",
   "metadata": {},
   "outputs": [],
   "source": [
    "#train_job_id = 'aug-'+str(int(time.time()))\n",
    "train_job_id = 'aug-' \\\n",
    "               + AUGMENTATION + '-' \\\n",
    "               + str(datetime.now().strftime(\"%H-%M-%S\"))\n",
    "print ('Launching Remote Training Job: ' + str(train_job_id))\n",
    "\n",
    "start = time.time()\n",
    "#tuner.fit(inputs = data_channels, job_name = train_job_id)\n",
    "train_estimator.fit(inputs = data_channels, job_name = train_job_id)\n",
    "end = time.time()"
   ]
  },
  {
   "cell_type": "code",
   "execution_count": null,
   "id": "loose-protest",
   "metadata": {},
   "outputs": [],
   "source": [
    "print ('Training Job: ' + str(train_job_id))\n",
    "print('Total time {:.0f}m {:.0f}s'.format((end-start)//60, (end-start)%60))\n",
    "print ('Model: ', MODEL)\n",
    "print ('Batch Size: ', BATCH_SIZE)\n",
    "print ('Learning Rate: ', LR)\n",
    "print ('Epochs: ', NUM_EPOCHS)\n",
    "print ('Instance: ', INSTANCE_TYPE)\n",
    "print ('Augmentation: ', AUGMENTATION)"
   ]
  },
  {
   "cell_type": "code",
   "execution_count": null,
   "id": "invisible-blowing",
   "metadata": {},
   "outputs": [],
   "source": [
    "profile_report_s3 = 's3://' + BUCKET + '/training_jobs_output/' + train_job_id + '/rule-output'\n",
    "print ('Downloading job-profile report from: '+ profile_report_s3)\n",
    "!aws s3 cp $profile_report_s3 ./reports --recursive"
   ]
  },
  {
   "cell_type": "code",
   "execution_count": null,
   "id": "elementary-driver",
   "metadata": {},
   "outputs": [],
   "source": [
    "'''\n",
    "Check SageMaker Studio Experiement section for detailed CPU/GPU time-series metrics\n",
    "'''"
   ]
  }
 ],
 "metadata": {
  "kernelspec": {
   "display_name": ".venv_dev",
   "language": "python",
   "name": ".venv_dev"
  },
  "language_info": {
   "codemirror_mode": {
    "name": "ipython",
    "version": 3
   },
   "file_extension": ".py",
   "mimetype": "text/x-python",
   "name": "python",
   "nbconvert_exporter": "python",
   "pygments_lexer": "ipython3",
   "version": "3.8.2"
  }
 },
 "nbformat": 4,
 "nbformat_minor": 5
}
