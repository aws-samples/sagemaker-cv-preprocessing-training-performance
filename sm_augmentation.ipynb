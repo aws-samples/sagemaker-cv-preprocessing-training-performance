{
 "cells": [
  {
   "cell_type": "code",
   "execution_count": null,
   "id": "abandoned-teddy",
   "metadata": {},
   "outputs": [],
   "source": [
    "from util_debugger import get_sys_metric\n",
    "from util_train import aug_exp_train\n",
    "import pprint"
   ]
  },
  {
   "cell_type": "markdown",
   "id": "sound-python",
   "metadata": {},
   "source": [
    "### Setting up required parameters for the experiment to compare training time for augmentation on CPU and GPU"
   ]
  },
  {
   "cell_type": "code",
   "execution_count": null,
   "id": "impossible-making",
   "metadata": {},
   "outputs": [],
   "source": [
    "# Options: ['pytorch-cpu', 'dali-gpu', 'dali-cpu'] \n",
    "AUGMENTATION_APPROACHES = ['pytorch-cpu', 'dali-gpu']\n",
    "\n",
    "instance_type = 'ml.p3.2xlarge' #[1-GPU][8-CPU]\n",
    "#instance_type = 'ml.g4dn.16xlarge' #[1-GPU][64-CPU]\n",
    "#instance_type = 'ml.p3.8xlarge' #[4-GPU][32-CPU]\n",
    "#instance_type = 'ml.g4dn.12xlarge' #[4-GPU] [48-CPU]\n",
    "\n",
    "model_arch = 'RESNET18'\n",
    "#model_arch = 'RESNET50'\n",
    "#model_arch = 'RESNET152'\n",
    "\n",
    "batch_size = 32\n",
    "\n",
    "aug_load_factor = 12"
   ]
  },
  {
   "cell_type": "markdown",
   "id": "pressed-drama",
   "metadata": {},
   "source": [
    "### Launching training jobs and fetching system utilization"
   ]
  },
  {
   "cell_type": "code",
   "execution_count": null,
   "id": "greatest-position",
   "metadata": {},
   "outputs": [],
   "source": [
    "exp_data = {}\n",
    "trial = 0\n",
    "pp = pprint.PrettyPrinter()\n",
    "\n",
    "for aug_operator in AUGMENTATION_APPROACHES:\n",
    "        \n",
    "    trial = trial + 1\n",
    "    trial_data = dict.fromkeys(['train_job_id', 'model_arch', 'instance_type', 'batch_size', 'aug_load_factor', 'aug_operator', 'sys_util_df'])\n",
    "            \n",
    "    train_job_id, train_estimator = aug_exp_train(model_arch, batch_size, aug_operator, aug_load_factor, instance_type)\n",
    "    heatmap, metric_hist, sys_util_df = get_sys_metric(train_estimator, instance_type)\n",
    "            \n",
    "    trial_data['train_job_id'] = train_job_id\n",
    "    trial_data['model_arch'] = model_arch\n",
    "    trial_data['instance_type'] = instance_type\n",
    "    trial_data['batch_size'] = batch_size\n",
    "    trial_data['aug_load_factor'] = aug_load_factor\n",
    "    trial_data['aug_operator'] = aug_operator\n",
    "    trial_data['sys_util_df'] = sys_util_df\n",
    "            \n",
    "    pp.pprint(trial_data) \n",
    "    exp_data.update({'trial-'+str(trial): trial_data})\n",
    "            \n",
    "pp.pprint(exp_data) "
   ]
  }
 ],
 "metadata": {
  "kernelspec": {
   "display_name": ".venv_dev",
   "language": "python",
   "name": ".venv_dev"
  },
  "language_info": {
   "codemirror_mode": {
    "name": "ipython",
    "version": 3
   },
   "file_extension": ".py",
   "mimetype": "text/x-python",
   "name": "python",
   "nbconvert_exporter": "python",
   "pygments_lexer": "ipython3",
   "version": "3.8.2"
  }
 },
 "nbformat": 4,
 "nbformat_minor": 5
}
